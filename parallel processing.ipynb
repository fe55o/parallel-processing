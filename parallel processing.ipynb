{
 "cells": [
  {
   "cell_type": "code",
   "execution_count": 1,
   "metadata": {},
   "outputs": [],
   "source": [
    "import requests\n",
    "import sqlite3\n",
    "import time\n",
    "import concurrent.futures\n",
    "from rx import Observable\n",
    "import json\n",
    "from rx import create\n",
    "from flask import Flask, render_template, request\n",
    "from timeit import default_timer as timer\n",
    "import sqlalchemy as db"
   ]
  },
  {
   "cell_type": "code",
   "execution_count": 2,
   "metadata": {},
   "outputs": [],
   "source": [
    "def sequential_call():\n",
    "    response_list = []\n",
    "    for i in range(1,6,1):\n",
    "        req = requests.get(\"https://rickandmortyapi.com/api/character/\"+str(i)).json()\n",
    "        response_list.append(req)\n",
    "    #print(response_list)\n",
    "    return response_list"
   ]
  },
  {
   "cell_type": "code",
   "execution_count": 3,
   "metadata": {},
   "outputs": [],
   "source": [
    "def parallel_call():\n",
    "\n",
    "    with concurrent.futures.ThreadPoolExecutor() as executor:\n",
    "        response_list = []\n",
    "        for i in range (1,6,1):\n",
    "            future = executor.submit(requests.get, \"https://rickandmortyapi.com/api/character/\"+str(i))\n",
    "            return_value = future.result()\n",
    "            req = json.loads(return_value.text)\n",
    "            response_list.append(req)\n",
    "            #print(y[\"name\"])\n",
    "        return response_list"
   ]
  },
  {
   "cell_type": "code",
   "execution_count": 4,
   "metadata": {},
   "outputs": [],
   "source": [
    "def write_in_parallel(temp):\n",
    "    sqliteConnection = sqlite3.connect('SQLite_Python.db')\n",
    "    cursor = sqliteConnection.cursor()\n",
    "    for i in range(0,len(temp),1):\n",
    "        params = (temp[i]['name'],temp[i]['status'],temp[i]['gender'])\n",
    "        cursor.execute(\"INSERT INTO rickandmorty(name, status, gender) VALUES (?, ?, ?)\",params)\n",
    "        sqliteConnection.commit()\n",
    "    sqliteConnection.close()"
   ]
  },
  {
   "cell_type": "code",
   "execution_count": 5,
   "metadata": {},
   "outputs": [],
   "source": [
    "def reactive_call(observer, scheduler):\n",
    "    for i in range(1,6,1):\n",
    "        req = requests.get(\"https://rickandmortyapi.com/api/character/\"+str(i)).json()\n",
    "        observer.on_next(req)\n",
    "    observer.on_completed()\n",
    "\n"
   ]
  },
  {
   "cell_type": "code",
   "execution_count": 10,
   "metadata": {},
   "outputs": [],
   "source": [
    "def parallel_reactive_call(observer, scheduler):\n",
    "    with concurrent.futures.ThreadPoolExecutor() as executor:\n",
    "        \n",
    "        for i in range(1,6,1):\n",
    "            req = requests.get(\"https://rickandmortyapi.com/api/character/\"+str(i)).json()\n",
    "            executor.submit(observer.on_next,req)\n",
    "        observer.on_completed()\n",
    "\n"
   ]
  },
  {
   "cell_type": "code",
   "execution_count": 153,
   "metadata": {},
   "outputs": [],
   "source": [
    "def insert_into_db(response):\n",
    "    sqliteConnection = sqlite3.connect('SQLite_Python.db', check_same_thread=False)\n",
    "    cursor = sqliteConnection.cursor()\n",
    "    \n",
    "    #check if table exists or not\n",
    "    sql_create_projects_table = \"\"\" CREATE TABLE IF NOT EXISTS rickandmorty (\n",
    "                                        id integer PRIMARY KEY,\n",
    "                                        name text NOT NULL,\n",
    "                                        status text NOT NULL,\n",
    "                                        gender text NOT NULL\n",
    "                                    ); \"\"\"\n",
    "    cursor.execute(sql_create_projects_table)\n",
    "    return insert(response)"
   ]
  },
  {
   "cell_type": "code",
   "execution_count": 154,
   "metadata": {},
   "outputs": [],
   "source": [
    "def insert(response):\n",
    "    for i in range(0,len(response),1):\n",
    "        params = (response[i]['name'],response[i]['status'],response[i]['gender'])\n",
    "        cursor.execute(\"INSERT INTO rickandmorty(name, status, gender) VALUES (?, ?, ?)\",params)\n",
    "        sqliteConnection.commit()\n",
    "        return True"
   ]
  },
  {
   "cell_type": "code",
   "execution_count": 35,
   "metadata": {},
   "outputs": [],
   "source": [
    "def fetch_from_db():\n",
    "    sqliteConnection = sqlite3.connect('SQLite_Python.db')\n",
    "\n",
    "    cursor = sqliteConnection.cursor()\n",
    "    cursor.execute(\"SELECT * FROM rickandmorty\")\n",
    "\n",
    "    rows = cursor.fetchall()\n",
    "\n",
    "    for row in rows:\n",
    "        print(row)\n",
    "    sqliteConnection.commit()\n",
    "    sqliteConnection.close()"
   ]
  },
  {
   "cell_type": "code",
   "execution_count": 44,
   "metadata": {},
   "outputs": [],
   "source": [
    "# Deleting all records now\n",
    "def delete_all():\n",
    "    sqliteConnection = sqlite3.connect('SQLite_Python.db')\n",
    "    cursor = sqliteConnection.cursor()\n",
    "\n",
    "    sql_delete_query = \"\"\"DELETE from rickandmorty \"\"\"\n",
    "    cursor.execute(sql_delete_query)\n",
    "\n",
    "    sqliteConnection.commit()\n",
    "    sqliteConnection.close()"
   ]
  },
  {
   "cell_type": "markdown",
   "metadata": {},
   "source": [
    "# Calling API in Sequential "
   ]
  },
  {
   "cell_type": "code",
   "execution_count": 6,
   "metadata": {},
   "outputs": [
    {
     "name": "stdout",
     "output_type": "stream",
     "text": [
      " * Serving Flask app \"__main__\" (lazy loading)\n",
      " * Environment: production\n",
      "   WARNING: This is a development server. Do not use it in a production deployment.\n",
      "   Use a production WSGI server instead.\n",
      " * Debug mode: on\n"
     ]
    },
    {
     "name": "stderr",
     "output_type": "stream",
     "text": [
      " * Running on http://127.0.0.1:5000/ (Press CTRL+C to quit)\n",
      "127.0.0.1 - - [14/Mar/2021 23:48:16] \"\u001b[37mGET / HTTP/1.1\u001b[0m\" 200 -\n"
     ]
    },
    {
     "name": "stdout",
     "output_type": "stream",
     "text": [
      "No Post Back Call\n"
     ]
    },
    {
     "name": "stderr",
     "output_type": "stream",
     "text": [
      "127.0.0.1 - - [14/Mar/2021 23:48:21] \"\u001b[37mPOST / HTTP/1.1\u001b[0m\" 200 -\n",
      "127.0.0.1 - - [14/Mar/2021 23:48:25] \"\u001b[37mPOST / HTTP/1.1\u001b[0m\" 200 -\n"
     ]
    },
    {
     "name": "stdout",
     "output_type": "stream",
     "text": [
      "data inserted\n"
     ]
    },
    {
     "name": "stderr",
     "output_type": "stream",
     "text": [
      "127.0.0.1 - - [14/Mar/2021 23:48:27] \"\u001b[37mPOST / HTTP/1.1\u001b[0m\" 200 -\n"
     ]
    }
   ],
   "source": [
    "app = Flask(__name__)\n",
    "\n",
    "\n",
    "@app.route(\"/\", methods=['GET', 'POST'])\n",
    "def seq():\n",
    "    text = [] \n",
    "    time = 0\n",
    "    if request.method == 'POST':\n",
    "        if request.form['one'] == 'get data from API':\n",
    "            #pass \n",
    "            start = timer()\n",
    "\n",
    "            global temp \n",
    "            temp = sequential_call()\n",
    "            #print(temp)\n",
    "            end = timer()\n",
    "            time = round(end - start, 2)\n",
    "            for i in range (0,len(temp),1):\n",
    "                text.append(str(temp[i]['id']) +\":  \"+  temp[i]['name'] +\",  \"+ temp[i]['status'] +\",  \"+ temp[i]['gender'])\n",
    "        \n",
    "        elif request.form['one'] == 'insert data into database':\n",
    "            #print(temp)\n",
    "            if(len(temp) > 0):\n",
    "                sqliteConnection = sqlite3.connect('SQLite_Python.db')\n",
    "                cursor = sqliteConnection.cursor()\n",
    "\n",
    "                #check if table exists or not\n",
    "                sql_create_projects_table = \"\"\" CREATE TABLE IF NOT EXISTS rickandmorty (\n",
    "                                                    id integer PRIMARY KEY,\n",
    "                                                    name text NOT NULL,\n",
    "                                                    status text NOT NULL,\n",
    "                                                    gender text NOT NULL\n",
    "                                                ); \"\"\"\n",
    "                cursor.execute(sql_create_projects_table)\n",
    "                sqliteConnection.commit()\n",
    "                \n",
    "                for i in range(0,len(temp),1):\n",
    "                    params = (temp[i]['name'],temp[i]['status'],temp[i]['gender'])\n",
    "                    cursor.execute(\"INSERT INTO rickandmorty(name, status, gender) VALUES (?, ?, ?)\",params)\n",
    "                    sqliteConnection.commit()\n",
    "                sqliteConnection.close()\n",
    "                #print(insert_into_db(temp))\n",
    "                text = []\n",
    "                print(\"data inserted\")\n",
    "                text.append(\"data inserted into database\")\n",
    "#             #pass # do something else\n",
    "#             render_template('parallel.html', result = text)\n",
    "            \n",
    "        elif request.form['one'] == 'get data from database':\n",
    "            sqliteConnection = sqlite3.connect('SQLite_Python.db')\n",
    "\n",
    "            cursor = sqliteConnection.cursor()\n",
    "            cursor.execute(\"SELECT * FROM rickandmorty\")\n",
    "\n",
    "            rows = cursor.fetchall()\n",
    "\n",
    "            for row in rows:\n",
    "                text.append(row)\n",
    "            sqliteConnection.commit()\n",
    "            sqliteConnection.close()\n",
    "        else:\n",
    "            pass # unknown\n",
    "    elif request.method == 'GET':\n",
    "        print(\"No Post Back Call\")\n",
    "    return render_template('login.html', result = text, time = time)  \n",
    "\n",
    "if __name__ == \"__main__\":\n",
    "    app.run(debug = True, use_reloader=False)"
   ]
  },
  {
   "cell_type": "markdown",
   "metadata": {},
   "source": [
    "# Calling API in Parallel"
   ]
  },
  {
   "cell_type": "code",
   "execution_count": 53,
   "metadata": {},
   "outputs": [
    {
     "name": "stdout",
     "output_type": "stream",
     "text": [
      " * Serving Flask app \"__main__\" (lazy loading)\n",
      " * Environment: production\n",
      "   WARNING: This is a development server. Do not use it in a production deployment.\n",
      "   Use a production WSGI server instead.\n",
      " * Debug mode: on\n"
     ]
    },
    {
     "name": "stderr",
     "output_type": "stream",
     "text": [
      " * Running on http://127.0.0.1:5000/ (Press CTRL+C to quit)\n",
      "127.0.0.1 - - [15/Mar/2021 01:38:01] \"\u001b[37mGET / HTTP/1.1\u001b[0m\" 200 -\n"
     ]
    },
    {
     "name": "stdout",
     "output_type": "stream",
     "text": [
      "No Post Back Call\n"
     ]
    },
    {
     "name": "stderr",
     "output_type": "stream",
     "text": [
      "127.0.0.1 - - [15/Mar/2021 01:38:07] \"\u001b[37mPOST / HTTP/1.1\u001b[0m\" 200 -\n"
     ]
    }
   ],
   "source": [
    "app = Flask(__name__)\n",
    "\n",
    "\n",
    "@app.route(\"/\", methods=['GET', 'POST'])\n",
    "def parallel():\n",
    "    text = [] \n",
    "    time = 0\n",
    "    if request.method == 'POST':\n",
    "        if request.form['one'] == 'get data from API':\n",
    "            #pass \n",
    "            start = timer()\n",
    "\n",
    "            global temp \n",
    "            temp = parallel_call()\n",
    "            #print(temp)\n",
    "            end = timer()\n",
    "            time = round(end - start, 2)\n",
    "            for i in range (0,len(temp),1):\n",
    "                text.append(str(temp[i]['id']) +\":  \"+  temp[i]['name'] +\",  \"+ temp[i]['status'] +\",  \"+ temp[i]['gender'])\n",
    "        \n",
    "        elif request.form['one'] == 'insert data into database':\n",
    "            #print(temp)\n",
    "            if(len(temp) > 0):\n",
    "                sqliteConnection = sqlite3.connect('SQLite_Python.db')\n",
    "                cursor = sqliteConnection.cursor()\n",
    "\n",
    "                #check if table exists or not\n",
    "                sql_create_projects_table = \"\"\" CREATE TABLE IF NOT EXISTS rickandmorty (\n",
    "                                                    id integer PRIMARY KEY,\n",
    "                                                    name text NOT NULL,\n",
    "                                                    status text NOT NULL,\n",
    "                                                    gender text NOT NULL\n",
    "                                                ); \"\"\"\n",
    "                cursor.execute(sql_create_projects_table)\n",
    "                sqliteConnection.commit()                \n",
    "                \n",
    "                with concurrent.futures.ThreadPoolExecutor() as executor:\n",
    "                    future = executor.submit(write_in_parallel, temp)\n",
    "                sqliteConnection.commit()\n",
    "                sqliteConnection.close()\n",
    "\n",
    "                text = []\n",
    "                print(\"data inserted\")\n",
    "                text.append(\"data inserted into database\")\n",
    "            \n",
    "        elif request.form['one'] == 'get data from database':\n",
    "            sqliteConnection = sqlite3.connect('SQLite_Python.db')\n",
    "\n",
    "            cursor = sqliteConnection.cursor()\n",
    "            cursor.execute(\"SELECT * FROM rickandmorty\")\n",
    "\n",
    "            rows = cursor.fetchall()\n",
    "\n",
    "            for row in rows:\n",
    "                text.append(row)\n",
    "            sqliteConnection.commit()\n",
    "            sqliteConnection.close()\n",
    "        else:\n",
    "            pass # unknown\n",
    "    elif request.method == 'GET':\n",
    "        print(\"No Post Back Call\")\n",
    "    return render_template('login.html', result = text, time = time)  \n",
    "\n",
    "if __name__ == \"__main__\":\n",
    "    app.run(debug = True, use_reloader=False)"
   ]
  },
  {
   "cell_type": "markdown",
   "metadata": {},
   "source": [
    "# Calling API in Sequential Reactive Programming"
   ]
  },
  {
   "cell_type": "code",
   "execution_count": 54,
   "metadata": {},
   "outputs": [
    {
     "name": "stdout",
     "output_type": "stream",
     "text": [
      " * Serving Flask app \"__main__\" (lazy loading)\n",
      " * Environment: production\n",
      "   WARNING: This is a development server. Do not use it in a production deployment.\n",
      "   Use a production WSGI server instead.\n",
      " * Debug mode: on\n"
     ]
    },
    {
     "name": "stderr",
     "output_type": "stream",
     "text": [
      " * Running on http://127.0.0.1:5000/ (Press CTRL+C to quit)\n",
      "127.0.0.1 - - [15/Mar/2021 01:38:36] \"\u001b[37mGET / HTTP/1.1\u001b[0m\" 200 -\n"
     ]
    },
    {
     "name": "stdout",
     "output_type": "stream",
     "text": [
      "No Post Back Call\n"
     ]
    },
    {
     "name": "stderr",
     "output_type": "stream",
     "text": [
      "127.0.0.1 - - [15/Mar/2021 01:38:42] \"\u001b[37mPOST / HTTP/1.1\u001b[0m\" 200 -\n"
     ]
    },
    {
     "name": "stdout",
     "output_type": "stream",
     "text": [
      "Done!\n"
     ]
    },
    {
     "name": "stderr",
     "output_type": "stream",
     "text": [
      "127.0.0.1 - - [15/Mar/2021 01:38:45] \"\u001b[37mPOST / HTTP/1.1\u001b[0m\" 200 -\n"
     ]
    },
    {
     "name": "stdout",
     "output_type": "stream",
     "text": [
      "data inserted\n"
     ]
    },
    {
     "name": "stderr",
     "output_type": "stream",
     "text": [
      "127.0.0.1 - - [15/Mar/2021 01:38:46] \"\u001b[37mPOST / HTTP/1.1\u001b[0m\" 200 -\n",
      "127.0.0.1 - - [15/Mar/2021 01:38:48] \"\u001b[37mPOST / HTTP/1.1\u001b[0m\" 200 -\n"
     ]
    },
    {
     "name": "stdout",
     "output_type": "stream",
     "text": [
      "data inserted\n"
     ]
    },
    {
     "name": "stderr",
     "output_type": "stream",
     "text": [
      "127.0.0.1 - - [15/Mar/2021 01:38:50] \"\u001b[37mPOST / HTTP/1.1\u001b[0m\" 200 -\n"
     ]
    }
   ],
   "source": [
    "app = Flask(__name__)\n",
    "\n",
    "\n",
    "@app.route(\"/\", methods=['GET', 'POST'])\n",
    "def seq_rx():\n",
    "    text = [] \n",
    "    time = 0\n",
    "    if request.method == 'POST':\n",
    "        if request.form['one'] == 'get data from API':\n",
    "            start = timer()\n",
    "            global temp\n",
    "            temp = []\n",
    "            source = create(reactive_call)\n",
    "            source.subscribe(\n",
    "                on_next = lambda req: temp.append(req),\n",
    "                on_error = lambda e: print(\"Error Occurred: {0}\".format(e)),\n",
    "                on_completed = lambda: print(\"Done!\"),\n",
    "            )\n",
    "            for i in range (0,len(temp),1):\n",
    "                text.append(str(temp[i]['id']) +\":  \"+  temp[i]['name'] +\",  \"+ temp[i]['status'] +\",  \"+ temp[i]['gender'])\n",
    "            end = timer()\n",
    "            time = round(end - start, 2)\n",
    "            \n",
    "        elif request.form['one'] == 'insert data into database':\n",
    "            if(len(temp) > 0):\n",
    "                sqliteConnection = sqlite3.connect('SQLite_Python.db')\n",
    "                cursor = sqliteConnection.cursor()\n",
    "\n",
    "                #check if table exists or not\n",
    "                sql_create_projects_table = \"\"\" CREATE TABLE IF NOT EXISTS rickandmorty (\n",
    "                                                    id integer PRIMARY KEY,\n",
    "                                                    name text NOT NULL,\n",
    "                                                    status text NOT NULL,\n",
    "                                                    gender text NOT NULL\n",
    "                                                ); \"\"\"\n",
    "                cursor.execute(sql_create_projects_table)\n",
    "                sqliteConnection.commit()\n",
    "                \n",
    "                for i in range(0,len(temp),1):\n",
    "                    params = (temp[i]['name'],temp[i]['status'],temp[i]['gender'])\n",
    "                    cursor.execute(\"INSERT INTO rickandmorty(name, status, gender) VALUES (?, ?, ?)\",params)\n",
    "                    sqliteConnection.commit()\n",
    "                sqliteConnection.close()\n",
    "                #print(insert_into_db(temp))\n",
    "                text = []\n",
    "                print(\"data inserted\")\n",
    "                text.append(\"data inserted into database\")\n",
    "            \n",
    "        elif request.form['one'] == 'get data from database':\n",
    "            sqliteConnection = sqlite3.connect('SQLite_Python.db')\n",
    "\n",
    "            cursor = sqliteConnection.cursor()\n",
    "            cursor.execute(\"SELECT * FROM rickandmorty\")\n",
    "\n",
    "            rows = cursor.fetchall()\n",
    "\n",
    "            for row in rows:\n",
    "                text.append(row)\n",
    "            sqliteConnection.commit()\n",
    "            sqliteConnection.close()\n",
    "        else:\n",
    "            pass # unknown\n",
    "    elif request.method == 'GET':\n",
    "        print(\"No Post Back Call\")\n",
    "    return render_template('login.html', result = text, time = time)  \n",
    "\n",
    "if __name__ == \"__main__\":\n",
    "    app.run(debug = True, use_reloader=False)"
   ]
  },
  {
   "cell_type": "markdown",
   "metadata": {},
   "source": [
    "# Calling API in Parallel Reactive programming"
   ]
  },
  {
   "cell_type": "code",
   "execution_count": 11,
   "metadata": {},
   "outputs": [
    {
     "name": "stdout",
     "output_type": "stream",
     "text": [
      " * Serving Flask app \"__main__\" (lazy loading)\n",
      " * Environment: production\n",
      "   WARNING: This is a development server. Do not use it in a production deployment.\n",
      "   Use a production WSGI server instead.\n",
      " * Debug mode: on\n"
     ]
    },
    {
     "name": "stderr",
     "output_type": "stream",
     "text": [
      " * Running on http://127.0.0.1:5000/ (Press CTRL+C to quit)\n",
      "127.0.0.1 - - [15/Mar/2021 16:56:55] \"\u001b[37mGET / HTTP/1.1\u001b[0m\" 200 -\n"
     ]
    },
    {
     "name": "stdout",
     "output_type": "stream",
     "text": [
      "No Post Back Call\n"
     ]
    },
    {
     "name": "stderr",
     "output_type": "stream",
     "text": [
      "127.0.0.1 - - [15/Mar/2021 16:56:58] \"\u001b[37mPOST / HTTP/1.1\u001b[0m\" 200 -\n"
     ]
    },
    {
     "name": "stdout",
     "output_type": "stream",
     "text": [
      "Done!\n"
     ]
    },
    {
     "name": "stderr",
     "output_type": "stream",
     "text": [
      "127.0.0.1 - - [15/Mar/2021 16:57:01] \"\u001b[37mPOST / HTTP/1.1\u001b[0m\" 200 -\n"
     ]
    },
    {
     "name": "stdout",
     "output_type": "stream",
     "text": [
      "data inserted\n"
     ]
    },
    {
     "name": "stderr",
     "output_type": "stream",
     "text": [
      "127.0.0.1 - - [15/Mar/2021 16:57:03] \"\u001b[37mPOST / HTTP/1.1\u001b[0m\" 200 -\n"
     ]
    }
   ],
   "source": [
    "app = Flask(__name__)\n",
    "\n",
    "\n",
    "@app.route(\"/\", methods=['GET', 'POST'])\n",
    "def parallel_rx():\n",
    "    text = [] \n",
    "    time = 0\n",
    "    if request.method == 'POST':\n",
    "        if request.form['one'] == 'get data from API':\n",
    "            start = timer()\n",
    "            global temp\n",
    "            temp = []\n",
    "            source = create(parallel_reactive_call)\n",
    "            source.subscribe(\n",
    "                on_next = lambda req: temp.append(req),\n",
    "                on_error = lambda e: print(\"Error Occurred: {0}\".format(e)),\n",
    "                on_completed = lambda: print(\"Done!\"),\n",
    "            )\n",
    "            for i in range (0,len(temp),1):\n",
    "                text.append(str(temp[i]['id']) +\":  \"+  temp[i]['name'] +\",  \"+ temp[i]['status'] +\",  \"+ temp[i]['gender'])\n",
    "            end = timer()\n",
    "            time = round(end - start, 2)\n",
    "            \n",
    "        elif request.form['one'] == 'insert data into database':\n",
    "            if(len(temp) > 0):\n",
    "                sqliteConnection = sqlite3.connect('SQLite_Python.db')\n",
    "                cursor = sqliteConnection.cursor()\n",
    "\n",
    "                #check if table exists or not\n",
    "                sql_create_projects_table = \"\"\" CREATE TABLE IF NOT EXISTS rickandmorty (\n",
    "                                                    id integer PRIMARY KEY,\n",
    "                                                    name text NOT NULL,\n",
    "                                                    status text NOT NULL,\n",
    "                                                    gender text NOT NULL\n",
    "                                                ); \"\"\"\n",
    "                cursor.execute(sql_create_projects_table)\n",
    "                sqliteConnection.commit()\n",
    "                \n",
    "                for i in range(0,len(temp),1):\n",
    "                    params = (temp[i]['name'],temp[i]['status'],temp[i]['gender'])\n",
    "                    cursor.execute(\"INSERT INTO rickandmorty(name, status, gender) VALUES (?, ?, ?)\",params)\n",
    "                    sqliteConnection.commit()\n",
    "                sqliteConnection.close()\n",
    "                #print(insert_into_db(temp))\n",
    "                text = []\n",
    "                print(\"data inserted\")\n",
    "                text.append(\"data inserted into database\")\n",
    "            \n",
    "        elif request.form['one'] == 'get data from database':\n",
    "            sqliteConnection = sqlite3.connect('SQLite_Python.db')\n",
    "\n",
    "            cursor = sqliteConnection.cursor()\n",
    "            cursor.execute(\"SELECT * FROM rickandmorty\")\n",
    "\n",
    "            rows = cursor.fetchall()\n",
    "\n",
    "            for row in rows:\n",
    "                text.append(row)\n",
    "            sqliteConnection.commit()\n",
    "            sqliteConnection.close()\n",
    "        else:\n",
    "            pass # unknown\n",
    "    elif request.method == 'GET':\n",
    "        print(\"No Post Back Call\")\n",
    "    return render_template('login.html', result = text, time = time)  \n",
    "\n",
    "if __name__ == \"__main__\":\n",
    "    app.run(debug = True, use_reloader=False)"
   ]
  },
  {
   "cell_type": "code",
   "execution_count": 45,
   "metadata": {},
   "outputs": [
    {
     "name": "stdout",
     "output_type": "stream",
     "text": [
      "(1, 'Rick Sanchez', 'Alive', 'Male')\n",
      "(2, 'Morty Smith', 'Alive', 'Male')\n",
      "(3, 'Summer Smith', 'Alive', 'Female')\n",
      "(4, 'Beth Smith', 'Alive', 'Female')\n",
      "(5, 'Jerry Smith', 'Alive', 'Male')\n"
     ]
    }
   ],
   "source": [
    "# delete_all()\n",
    "\n",
    "# sqliteConnection = sqlite3.connect('SQLite_Python.db')\n",
    "# cursor = sqliteConnection.cursor()\n",
    "\n",
    "# temp = parallel_call()\n",
    "# with concurrent.futures.ThreadPoolExecutor() as executor:\n",
    "#     future = executor.submit(write_in_parallel, temp)\n",
    "# fetch_from_db()"
   ]
  }
 ],
 "metadata": {
  "kernelspec": {
   "display_name": "Python 3",
   "language": "python",
   "name": "python3"
  },
  "language_info": {
   "codemirror_mode": {
    "name": "ipython",
    "version": 3
   },
   "file_extension": ".py",
   "mimetype": "text/x-python",
   "name": "python",
   "nbconvert_exporter": "python",
   "pygments_lexer": "ipython3",
   "version": "3.7.6"
  }
 },
 "nbformat": 4,
 "nbformat_minor": 4
}
